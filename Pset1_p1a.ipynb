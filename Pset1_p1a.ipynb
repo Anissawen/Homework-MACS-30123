{
  "cells": [
    {
      "cell_type": "markdown",
      "metadata": {
        "colab_type": "text",
        "id": "view-in-github"
      },
      "source": [
        "<a href=\"https://colab.research.google.com/github/Anissawen/Homework-MACS-30123/blob/main/Pset1_p1a.ipynb\" target=\"_parent\"><img src=\"https://colab.research.google.com/assets/colab-badge.svg\" alt=\"Open In Colab\"/></a>"
      ]
    },
    {
      "cell_type": "markdown",
      "metadata": {
        "id": "yXTHALihJDFr"
      },
      "source": [
        "# Q1. a"
      ]
    },
    {
      "cell_type": "markdown",
      "metadata": {
        "id": "QtsD9qUkCbRp"
      },
      "source": [
        "### Step1: first we try to calculate the original code time"
      ]
    },
    {
      "cell_type": "code",
      "execution_count": null,
      "metadata": {
        "colab": {
          "base_uri": "https://localhost:8080/"
        },
        "id": "w_fi_Cx478a-",
        "outputId": "bd539d0a-706e-45f1-85f6-f1bd120c2429"
      },
      "outputs": [
        {
          "name": "stdout",
          "output_type": "stream",
          "text": [
            "Elapsed time: 16.3990 seconds\n"
          ]
        }
      ],
      "source": [
        "import numpy as np\n",
        "import scipy.stats as sts\n",
        "import time\n",
        "\n",
        "# Set model parameters\n",
        "rho = 0.5\n",
        "mu = 3.0\n",
        "sigma = 1.0\n",
        "z_0 = mu\n",
        "\n",
        "# Set simulation parameters\n",
        "S = 1000  # Number of lives to simulate\n",
        "T = 4160  # Number of periods for each simulation\n",
        "np.random.seed(25)\n",
        "\n",
        "# Draw all idiosyncratic random shocks and create containers\n",
        "eps_mat = sts.norm.rvs(loc=0, scale=sigma, size=(T, S))\n",
        "z_mat = np.zeros((T, S))\n",
        "\n",
        "start_time = time.time()\n",
        "for s_ind in range(S):\n",
        "    z_tm1 = z_0\n",
        "    for t_ind in range(T):\n",
        "        e_t = eps_mat[t_ind, s_ind]\n",
        "        z_t = rho * z_tm1 + (1 - rho) * mu + e_t\n",
        "        z_mat[t_ind, s_ind] = z_t\n",
        "        z_tm1 = z_t\n",
        "end_time = time.time()\n",
        "print(f\"Elapsed time: {end_time - start_time:.4f} seconds\")"
      ]
    },
    {
      "cell_type": "markdown",
      "metadata": {
        "id": "7YQ-UE78DT2O"
      },
      "source": [
        "### Step2: we use numba.cc to precompile our codes"
      ]
    },
    {
      "cell_type": "code",
      "execution_count": null,
      "metadata": {
        "id": "Q3Sf1sFoCX3U"
      },
      "outputs": [],
      "source": [
        "from numba.pycc import CC\n",
        "import numpy as np\n",
        "\n",
        "cc = CC(\"q1a\")\n",
        "\n",
        "# Export function: x is 2D float64 (f8) arrays, and scalar inputs are int32 (i4) or float64 (f8)\n",
        "@cc.export('simulate_lifetimes', 'void(f8[:,:], f8[:,:], f8, f8, f8, i4, i4)')\n",
        "def simulate_lifetimes(z_mat, eps_mat, rho, mu, sigma, S, T):\n",
        "    for s_ind in range(S):\n",
        "        z_tm1 = mu\n",
        "        for t_ind in range(T):\n",
        "            e_t = eps_mat[t_ind, s_ind]\n",
        "            z_t = rho * z_tm1 + (1 - rho) * mu + e_t\n",
        "            z_mat[t_ind, s_ind] = z_t\n",
        "            z_tm1 = z_t\n",
        "\n",
        "cc.compile()\n"
      ]
    },
    {
      "cell_type": "code",
      "execution_count": null,
      "metadata": {
        "colab": {
          "base_uri": "https://localhost:8080/"
        },
        "id": "HZ6_lBiFDNsO",
        "outputId": "dee39a63-945e-47ea-a3f1-0bc93c78540f"
      },
      "outputs": [
        {
          "name": "stdout",
          "output_type": "stream",
          "text": [
            "AOT-compiled simulation took: 0.0712 seconds\n"
          ]
        }
      ],
      "source": [
        "import numpy as np\n",
        "import scipy.stats as sts\n",
        "import time\n",
        "import q1a  # the precompiled module\n",
        "\n",
        "# Parameters\n",
        "rho = 0.5\n",
        "mu = 3.0\n",
        "sigma = 1.0\n",
        "z_0 = mu\n",
        "S = 1000  # Number of lifetimes\n",
        "T = 4160  # Number of weeks (80 years × 52)\n",
        "\n",
        "np.random.seed(25)\n",
        "eps_mat = np.random.normal(loc=0, scale=sigma, size=(T, S))\n",
        "z_mat = np.zeros((T, S))\n",
        "\n",
        "# Time performance\n",
        "start = time.time()\n",
        "q1a.simulate_lifetimes(z_mat, eps_mat, rho, mu, sigma, S, T)\n",
        "end = time.time()\n",
        "\n",
        "print(f\"AOT-compiled simulation took: {end - start:.4f} seconds\")\n"
      ]
    },
    {
      "cell_type": "markdown",
      "metadata": {
        "id": "TJFp3TahJB6w"
      },
      "source": [
        "# Q1.b"
      ]
    }
  ],
  "metadata": {
    "colab": {
      "authorship_tag": "ABX9TyNfcZX7JS5K4SY1PiJ3l7U0",
      "include_colab_link": true,
      "provenance": []
    },
    "kernelspec": {
      "display_name": "Python 3",
      "name": "python3"
    },
    "language_info": {
      "name": "python"
    }
  },
  "nbformat": 4,
  "nbformat_minor": 0
}
